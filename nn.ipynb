{
 "cells": [
  {
   "cell_type": "code",
   "execution_count": 227,
   "metadata": {},
   "outputs": [],
   "source": [
    "import keras\n",
    "from keras.layers import Dense\n",
    "from keras.models import Sequential\n",
    "from keras import optimizers\n",
    "from keras import backend as K\n",
    "import numpy as np\n",
    "\n",
    "from matplotlib import pyplot as plt\n",
    "from IPython.display import clear_output"
   ]
  },
  {
   "cell_type": "code",
   "execution_count": 230,
   "metadata": {},
   "outputs": [],
   "source": [
    "#training data from https://github.com/IdleHandsProject/makennbot\n",
    "x_train = [\n",
    "  [ 0, 1, 1, 0 ],  # LIGHT ON LEFT AND RIGHT\n",
    "  [ 0, 1, 0, 0 ],  # LIGHT ON LEFT\n",
    "  [ 1, 1, 1, 0 ],  # LIGHT ON TOP, LEFT, and RIGHT\n",
    "  [ 1, 1, 0, 0 ],  # LIGHT ON TOP and LEFT\n",
    "  [ 0, 0, 1, 0 ],  # LIGHT ON RIGHT\n",
    "  [ 1, 0, 0, 0 ],  # LIGHT ON TOP\n",
    "  [ 0, 0, 0, 0 ],  # NO LIGHT\n",
    "  [ 0, 0, 0, 1 ],  # LIGHT ON BOTTOM\n",
    "  [ 0, 1, 0, 1 ],  # LIGHT ON BOTTOM AND LEFT\n",
    "  [ 0, 0, 1, 1 ],  # LIGHT ON BOTTOM AND RIGHT\n",
    "  [ 0, 1, 1, 1 ],  # LIGHT ON BOTTOM, LEFT, and RIGHT\n",
    "  [ 1, 0, 0, 1 ],  # LIGHT ON TOP AND BOTTOM\n",
    "  [ 1, 1, 0, 1 ],  # LIGHT ON TOP, BOTTOM, and LEFT\n",
    "  [ 1, 0, 1, 1 ],  # LIGHT ON TOP, BOTTOM, and RIGHT\n",
    "  [ 1, 0, 1, 0 ],  # LIGHT ON TOP AND RIGHT\n",
    "  [ 1, 1, 1, 1 ],  # LIGHT ON ALL\n",
    "]\n",
    "\n",
    "y_train = [\n",
    "  [ 0.65, 0.55 ],   #LEFT MOTOR SLOW\n",
    "  [ 0.75, 0.5 ],    #LEFT MOTOR FASTER\n",
    "  [ 0.2, 0.2 ],     #BOTH MOTORS FULL BACKWARDS\n",
    "  [ 1, 0.2 ],       #MOTOR LEFT FULL FORWARD, RIGHT BACKWARDS\n",
    "  [ 0.5, 0.75 ],    #MOTOR LEFT STOPPED, RIGHT FORWARDS\n",
    "  [ 0.3, 0.3 ],     #BOTH BACKWARDS \n",
    "  [ 0.5, 0.5 ],     #BOTH MOTORS STOPPED\n",
    "  [ 0.75, 0.75 ],\n",
    "  [ 1, 0.75 ],\n",
    "  [ 0.75, 1 ],\n",
    "  [ 1, 1 ],\n",
    "  [ 1, 0 ],\n",
    "  [ 1, 0.75 ],\n",
    "  [ 0.75, 1 ],\n",
    "  [ 0.2, 1 ],\n",
    "  [ 0.65, 0.65],\n",
    "]\n",
    "\n",
    "x_train = np.array(x_train, dtype=np.float32)\n",
    "y_train = np.array(y_train)"
   ]
  },
  {
   "cell_type": "code",
   "execution_count": 291,
   "metadata": {},
   "outputs": [],
   "source": [
    "# training data from http://robotics.hobbizine.com/arduinoann.html\n",
    "x_train = [\n",
    "  [ 1, 1, 1, 1, 1, 1, 0 ],  # 0\n",
    "  [ 0, 1, 1, 0, 0, 0, 0 ],  # 1\n",
    "  [ 1, 1, 0, 1, 1, 0, 1 ],  # 2\n",
    "  [ 1, 1, 1, 1, 0, 0, 1 ],  # 3\n",
    "  [ 0, 1, 1, 0, 0, 1, 1 ],  # 4\n",
    "  [ 1, 0, 1, 1, 0, 1, 1 ],  # 5\n",
    "  [ 0, 0, 1, 1, 1, 1, 1 ],  # 6\n",
    "  [ 1, 1, 1, 0, 0, 0, 0 ],  # 7 \n",
    "  [ 1, 1, 1, 1, 1, 1, 1 ],  # 8\n",
    "  [ 1, 1, 1, 0, 0, 1, 1 ]   # 9\n",
    "]\n",
    "\n",
    "y_train = [\n",
    "  [ 0, 0, 0, 0 ],  \n",
    "  [ 0, 0, 0, 1 ], \n",
    "  [ 0, 0, 1, 0 ], \n",
    "  [ 0, 0, 1, 1 ], \n",
    "  [ 0, 1, 0, 0 ], \n",
    "  [ 0, 1, 0, 1 ], \n",
    "  [ 0, 1, 1, 0 ], \n",
    "  [ 0, 1, 1, 1 ], \n",
    "  [ 1, 0, 0, 0 ], \n",
    "  [ 1, 0, 0, 1 ] \n",
    "]\n",
    "\n",
    "x_train = np.array(x_train, dtype=np.float32)\n",
    "y_train = np.array(y_train)"
   ]
  },
  {
   "cell_type": "code",
   "execution_count": 292,
   "metadata": {},
   "outputs": [],
   "source": [
    "model = Sequential()\n",
    "\n",
    "IN = x_train.shape[1]\n",
    "HIDDEN = IN + 1\n",
    "OUT = y_train.shape[1]\n",
    "\n",
    "model.add(Dense(units=HIDDEN, activation='sigmoid', input_dim=IN))\n",
    "model.add(Dense(units=OUT, activation='sigmoid'))\n",
    "\n",
    "model.compile(loss='mean_squared_error',\n",
    "              optimizer=optimizers.SGD(lr=0.4))"
   ]
  },
  {
   "cell_type": "code",
   "execution_count": 293,
   "metadata": {},
   "outputs": [],
   "source": [
    "class PlotLosses(keras.callbacks.Callback):\n",
    "    def on_train_begin(self, logs={}):\n",
    "        self.i = 0\n",
    "        self.x = []\n",
    "        self.losses = []\n",
    "        self.val_losses = []\n",
    "        \n",
    "        self.fig = plt.figure()\n",
    "        \n",
    "        self.logs = []\n",
    "\n",
    "    def on_epoch_end(self, epoch, logs={}):\n",
    "        \n",
    "        self.logs.append(logs)\n",
    "        self.x.append(self.i)\n",
    "        self.losses.append(logs.get('loss'))\n",
    "        self.val_losses.append(logs.get('val_loss'))\n",
    "        self.i += 1\n",
    "        \n",
    "        clear_output(wait=True)\n",
    "        plt.plot(self.x, self.losses, label=\"loss\")\n",
    "        plt.plot(self.x, self.val_losses, label=\"val_loss\")\n",
    "        plt.legend()\n",
    "        plt.show();\n",
    "        \n",
    "plot_losses = PlotLosses()"
   ]
  },
  {
   "cell_type": "code",
   "execution_count": 294,
   "metadata": {},
   "outputs": [
    {
     "data": {
      "image/png": "[encoded data removed]",
      "text/plain": [
       "<matplotlib.figure.Figure at 0x12ecb9940>"
      ]
     },
     "metadata": {},
     "output_type": "display_data"
    },
    {
     "data": {
      "text/plain": [
       "<keras.callbacks.History at 0x128364dd8>"
      ]
     },
     "execution_count": 294,
     "metadata": {},
     "output_type": "execute_result"
    }
   ],
   "source": [
    "model.fit(x_train, y_train, epochs=200, batch_size=1, verbose=False, callbacks=[plot_losses])"
   ]
  },
  {
   "cell_type": "code",
   "execution_count": 295,
   "metadata": {},
   "outputs": [
    {
     "name": "stdout",
     "output_type": "stream",
     "text": [
      "model:\t [ 0.36  0.16  0.16  0.13]\n",
      "label:\t [0 0 0 0]\n",
      " \n",
      "model:\t [ 0.12  0.37  0.39  0.85]\n",
      "label:\t [0 0 0 1]\n",
      " \n",
      "model:\t [ 0.17  0.07  0.88  0.12]\n",
      "label:\t [0 0 1 0]\n",
      " \n",
      "model:\t [ 0.13  0.19  0.8   0.95]\n",
      "label:\t [0 0 1 1]\n",
      " \n",
      "model:\t [ 0.32  0.65  0.07  0.26]\n",
      "label:\t [0 1 0 0]\n",
      " \n",
      "model:\t [ 0.16  0.86  0.29  0.87]\n",
      "label:\t [0 1 0 1]\n",
      " \n",
      "model:\t [ 0.1   0.82  0.56  0.03]\n",
      "label:\t [0 1 1 0]\n",
      " \n",
      "model:\t [ 0.15  0.24  0.54  0.98]\n",
      "label:\t [0 1 1 1]\n",
      " \n",
      "model:\t [ 0.43  0.14  0.28  0.07]\n",
      "label:\t [1 0 0 0]\n",
      " \n",
      "model:\t [ 0.47  0.38  0.1   0.73]\n",
      "label:\t [1 0 0 1]\n",
      " \n"
     ]
    }
   ],
   "source": [
    "preds = model.predict(x_train).tolist()\n",
    "for i, pred in enumerate(preds):\n",
    "    print('model:\\t', np.round(pred,2))\n",
    "    print('label:\\t', y_train[i])\n",
    "    print(' ')"
   ]
  },
  {
   "cell_type": "code",
   "execution_count": 296,
   "metadata": {},
   "outputs": [],
   "source": [
    "def to_str(name, W):\n",
    "    s = str(W.tolist()).replace('[', '{').replace(']', '}')\n",
    "    return 'float '+name+'['+str(W.shape[0])+']['+str(W.shape[1])+'] = ' + s + ';'"
   ]
  },
  {
   "cell_type": "code",
   "execution_count": 305,
   "metadata": {},
   "outputs": [
    {
     "name": "stdout",
     "output_type": "stream",
     "text": [
      "// replace these two lines in arduino code:\n",
      "// float HiddenWeights[InputNodes+1][HiddenNodes]\n",
      "// float OutputWeights[HiddenNodes+1][OutputNodes]\n",
      "// With trained weights below.\n",
      "\n",
      "\n",
      "// You also have to disable the initial weight randomization\n",
      "// you can find it under this section in the arduino code:\n",
      "//* Initialize HiddenWeights and ChangeHiddenWeights \n",
      "\n",
      "\n",
      "float HiddenWeights[8][8] = {{1.0577375888824463, 1.4478853940963745, 0.2424156367778778, -0.28907862305641174, -2.002530574798584, 0.05516500398516655, -1.6269546747207642, -1.3266836404800415}, {2.3711464405059814, 0.14619237184524536, -0.3767035901546478, -0.013800319284200668, 0.10349021852016449, -1.2937337160110474, 1.0202710628509521, -1.568013310432434}, {-0.7405235767364502, 0.3492972254753113, 1.0923711061477661, 0.6706038117408752, -1.3197920322418213, 0.47990837693214417, -0.522572934627533, 0.1140698567032814}, {0.36511579155921936, -0.4845331907272339, -0.7267897725105286, 0.1434628963470459, 0.709480881690979, 1.3246488571166992, 0.4314337372779846, -0.09639058262109756}, {0.7391104102134705, -0.9696704745292664, -1.3493775129318237, -1.7886111736297607, 1.5323761701583862, -0.3931671380996704, 1.2522966861724854, 0.2847939133644104}, {-1.039398193359375, -2.695918560028076, 0.5766408443450928, 0.6423673033714294, 0.20330777764320374, -2.4169585704803467, 1.214924693107605, 0.41158527135849}, {-0.48115774989128113, -0.42391782999038696, -0.3807481527328491, -1.3358919620513916, 0.28894856572151184, -0.05781284347176552, -0.47126489877700806, 0.15560562908649445}, {-0.16719412803649902, 0.12085378915071487, 0.22191862761974335, 0.5705621242523193, 0.1566382348537445, 1.0806751251220703, -0.008313882164657116, 0.283065527677536}};\n",
      "float OutputWeights[9][4] = {{0.5689821243286133, -3.0617003440856934, 0.24527908861637115, -0.7463518977165222}, {-0.9648236036300659, -0.728696882724762, 2.0600454807281494, 2.5477054119110107}, {0.21803246438503265, 1.3578168153762817, -1.3270150423049927, 1.5301049947738647}, {-1.155070424079895, 0.9455966353416443, -1.737922191619873, 1.5686225891113281}, {-1.0136902332305908, 0.13532590866088867, 1.340911626815796, -2.7715184688568115}, {-2.0904617309570312, 0.64003986120224, 2.374994993209839, 1.482547640800476}, {-0.27023056149482727, -0.5163137912750244, -1.1372896432876587, -2.493792772293091}, {-0.8848812580108643, 1.6236841678619385, 0.7720401287078857, -0.4719986617565155}, {0.6853327751159668, 0.25149330496788025, -0.8543850183486938, -0.09026917815208435}};\n"
     ]
    }
   ],
   "source": [
    "# output weights as strings you can copy into arduino sketch\n",
    "W1 = np.vstack((K.eval(model.weights[0]), K.eval(model.weights[1])))\n",
    "W2 = np.vstack((K.eval(model.weights[2]), K.eval(model.weights[3])))\n",
    "\n",
    "print('// replace these two lines in arduino code:')\n",
    "print('// float HiddenWeights[InputNodes+1][HiddenNodes]')\n",
    "print('// float OutputWeights[HiddenNodes+1][OutputNodes]')\n",
    "print('// With trained weights below.')\n",
    "print('\\n')\n",
    "print('// You also have to disable the initial weight randomization')\n",
    "print('// you can find it under this section in the arduino code:')\n",
    "print('//* Initialize HiddenWeights and ChangeHiddenWeights ')\n",
    "print('\\n')\n",
    "print(to_str('HiddenWeights', W1))\n",
    "print(to_str('OutputWeights', W2))"
   ]
  },
  {
   "cell_type": "code",
   "execution_count": null,
   "metadata": {
    "collapsed": true
   },
   "outputs": [],
   "source": []
  }
 ],
 "metadata": {
  "kernelspec": {
   "display_name": "Python 3",
   "language": "python",
   "name": "python3"
  },
  "language_info": {
   "codemirror_mode": {
    "name": "ipython",
    "version": 3
   },
   "file_extension": ".py",
   "mimetype": "text/x-python",
   "name": "python",
   "nbconvert_exporter": "python",
   "pygments_lexer": "ipython3",
   "version": "3.6.1"
  }
 },
 "nbformat": 4,
 "nbformat_minor": 2
}
