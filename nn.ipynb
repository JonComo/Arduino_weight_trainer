{
 "cells": [
  {
   "cell_type": "code",
   "execution_count": null,
   "metadata": {},
   "outputs": [
    {
     "name": "stderr",
     "output_type": "stream",
     "text": [
      "Using TensorFlow backend.\n"
     ]
    }
   ],
   "source": [
    "import keras\n",
    "from keras.layers import Dense\n",
    "from keras.models import Sequential\n",
    "from keras import optimizers\n",
    "from keras import backend as K\n",
    "import numpy as np\n",
    "\n",
    "from matplotlib import pyplot as plt\n",
    "from IPython.display import clear_output"
   ]
  },
  {
   "cell_type": "code",
   "execution_count": null,
   "metadata": {
    "collapsed": true
   },
   "outputs": [],
   "source": [
    "#training data from https://github.com/IdleHandsProject/makennbot\n",
    "x_train = [\n",
    "  [ 0, 1, 1, 0 ],  # LIGHT ON LEFT AND RIGHT\n",
    "  [ 0, 1, 0, 0 ],  # LIGHT ON LEFT\n",
    "  [ 1, 1, 1, 0 ],  # LIGHT ON TOP, LEFT, and RIGHT\n",
    "  [ 1, 1, 0, 0 ],  # LIGHT ON TOP and LEFT\n",
    "  [ 0, 0, 1, 0 ],  # LIGHT ON RIGHT\n",
    "  [ 1, 0, 0, 0 ],  # LIGHT ON TOP\n",
    "  [ 0, 0, 0, 0 ],  # NO LIGHT\n",
    "  [ 0, 0, 0, 1 ],  # LIGHT ON BOTTOM\n",
    "  [ 0, 1, 0, 1 ],  # LIGHT ON BOTTOM AND LEFT\n",
    "  [ 0, 0, 1, 1 ],  # LIGHT ON BOTTOM AND RIGHT\n",
    "  [ 0, 1, 1, 1 ],  # LIGHT ON BOTTOM, LEFT, and RIGHT\n",
    "  [ 1, 0, 0, 1 ],  # LIGHT ON TOP AND BOTTOM\n",
    "  [ 1, 1, 0, 1 ],  # LIGHT ON TOP, BOTTOM, and LEFT\n",
    "  [ 1, 0, 1, 1 ],  # LIGHT ON TOP, BOTTOM, and RIGHT\n",
    "  [ 1, 0, 1, 0 ],  # LIGHT ON TOP AND RIGHT\n",
    "  [ 1, 1, 1, 1 ],  # LIGHT ON ALL\n",
    "]\n",
    "\n",
    "y_train = [\n",
    "  [ 0.65, 0.55 ],   #LEFT MOTOR SLOW\n",
    "  [ 0.75, 0.5 ],    #LEFT MOTOR FASTER\n",
    "  [ 0.2, 0.2 ],     #BOTH MOTORS FULL BACKWARDS\n",
    "  [ 1, 0.2 ],       #MOTOR LEFT FULL FORWARD, RIGHT BACKWARDS\n",
    "  [ 0.5, 0.75 ],    #MOTOR LEFT STOPPED, RIGHT FORWARDS\n",
    "  [ 0.3, 0.3 ],     #BOTH BACKWARDS \n",
    "  [ 0.5, 0.5 ],     #BOTH MOTORS STOPPED\n",
    "  [ 0.75, 0.75 ],\n",
    "  [ 1, 0.75 ],\n",
    "  [ 0.75, 1 ],\n",
    "  [ 1, 1 ],\n",
    "  [ 1, 0 ],\n",
    "  [ 1, 0.75 ],\n",
    "  [ 0.75, 1 ],\n",
    "  [ 0.2, 1 ],\n",
    "  [ 0.65, 0.65],\n",
    "]\n",
    "\n",
    "x_train = np.array(x_train, dtype=np.float32)\n",
    "y_train = np.array(y_train)"
   ]
  },
  {
   "cell_type": "code",
   "execution_count": null,
   "metadata": {
    "collapsed": true
   },
   "outputs": [],
   "source": [
    "# training data from http://robotics.hobbizine.com/arduinoann.html\n",
    "x_train = [\n",
    "  [ 1, 1, 1, 1, 1, 1, 0 ],  # 0\n",
    "  [ 0, 1, 1, 0, 0, 0, 0 ],  # 1\n",
    "  [ 1, 1, 0, 1, 1, 0, 1 ],  # 2\n",
    "  [ 1, 1, 1, 1, 0, 0, 1 ],  # 3\n",
    "  [ 0, 1, 1, 0, 0, 1, 1 ],  # 4\n",
    "  [ 1, 0, 1, 1, 0, 1, 1 ],  # 5\n",
    "  [ 0, 0, 1, 1, 1, 1, 1 ],  # 6\n",
    "  [ 1, 1, 1, 0, 0, 0, 0 ],  # 7 \n",
    "  [ 1, 1, 1, 1, 1, 1, 1 ],  # 8\n",
    "  [ 1, 1, 1, 0, 0, 1, 1 ]   # 9\n",
    "]\n",
    "\n",
    "y_train = [\n",
    "  [ 0, 0, 0, 0 ],  \n",
    "  [ 0, 0, 0, 1 ], \n",
    "  [ 0, 0, 1, 0 ], \n",
    "  [ 0, 0, 1, 1 ], \n",
    "  [ 0, 1, 0, 0 ], \n",
    "  [ 0, 1, 0, 1 ], \n",
    "  [ 0, 1, 1, 0 ], \n",
    "  [ 0, 1, 1, 1 ], \n",
    "  [ 1, 0, 0, 0 ], \n",
    "  [ 1, 0, 0, 1 ] \n",
    "]\n",
    "\n",
    "x_train = np.array(x_train, dtype=np.float32)\n",
    "y_train = np.array(y_train)"
   ]
  },
  {
   "cell_type": "code",
   "execution_count": null,
   "metadata": {
    "collapsed": true
   },
   "outputs": [],
   "source": [
    "model = Sequential()\n",
    "\n",
    "IN = x_train.shape[1]\n",
    "HIDDEN = IN + 1\n",
    "OUT = y_train.shape[1]\n",
    "\n",
    "model.add(Dense(units=HIDDEN, activation='sigmoid', input_dim=IN))\n",
    "model.add(Dense(units=OUT, activation='sigmoid'))\n",
    "\n",
    "model.compile(loss='mean_squared_error',\n",
    "              optimizer=optimizers.SGD(lr=0.4))"
   ]
  },
  {
   "cell_type": "code",
   "execution_count": null,
   "metadata": {
    "collapsed": true
   },
   "outputs": [],
   "source": [
    "class PlotLosses(keras.callbacks.Callback):\n",
    "    def on_train_begin(self, logs={}):\n",
    "        self.i = 0\n",
    "        self.x = []\n",
    "        self.losses = []\n",
    "        self.val_losses = []\n",
    "        \n",
    "        self.fig = plt.figure()\n",
    "        \n",
    "        self.logs = []\n",
    "\n",
    "    def on_epoch_end(self, epoch, logs={}):\n",
    "        \n",
    "        self.logs.append(logs)\n",
    "        self.x.append(self.i)\n",
    "        self.losses.append(logs.get('loss'))\n",
    "        self.val_losses.append(logs.get('val_loss'))\n",
    "        self.i += 1\n",
    "        \n",
    "        clear_output(wait=True)\n",
    "        plt.plot(self.x, self.losses, label=\"loss\")\n",
    "        plt.plot(self.x, self.val_losses, label=\"val_loss\")\n",
    "        plt.legend()\n",
    "        plt.show();\n",
    "        \n",
    "plot_losses = PlotLosses()"
   ]
  },
  {
   "cell_type": "code",
   "execution_count": null,
   "metadata": {},
   "outputs": [],
   "source": [
    "model.fit(x_train, y_train, epochs=50, batch_size=1, verbose=False, callbacks=[plot_losses])"
   ]
  },
  {
   "cell_type": "code",
   "execution_count": null,
   "metadata": {},
   "outputs": [],
   "source": [
    "preds = model.predict(x_train).tolist()\n",
    "for i, pred in enumerate(preds):\n",
    "    print('model:\\t', np.round(pred,2))\n",
    "    print('label:\\t', y_train[i])\n",
    "    print(' ')"
   ]
  },
  {
   "cell_type": "code",
   "execution_count": null,
   "metadata": {
    "collapsed": true
   },
   "outputs": [],
   "source": [
    "def to_str(name, W):\n",
    "    s = str(W.tolist()).replace('[', '{').replace(']', '}')\n",
    "    return 'float '+name+'['+str(W.shape[0])+']['+str(W.shape[1])+'] = ' + s + ';'"
   ]
  },
  {
   "cell_type": "code",
   "execution_count": null,
   "metadata": {},
   "outputs": [],
   "source": [
    "# output weights as strings you can copy into arduino sketch\n",
    "W1 = np.vstack((K.eval(model.weights[0]), K.eval(model.weights[1])))\n",
    "W2 = np.vstack((K.eval(model.weights[2]), K.eval(model.weights[3])))\n",
    "\n",
    "print('// replace these two lines in arduino code:')\n",
    "print('// float HiddenWeights[InputNodes+1][HiddenNodes]')\n",
    "print('// float OutputWeights[HiddenNodes+1][OutputNodes]')\n",
    "print('// With trained weights below.')\n",
    "print('\\n')\n",
    "print('// You also have to disable the initial weight randomization')\n",
    "print('// you can find it under this section in the arduino code:')\n",
    "print('//* Initialize HiddenWeights and ChangeHiddenWeights ')\n",
    "print('\\n')\n",
    "print(to_str('HiddenWeights', W1))\n",
    "print(to_str('OutputWeights', W2))"
   ]
  },
  {
   "cell_type": "code",
   "execution_count": null,
   "metadata": {
    "collapsed": true
   },
   "outputs": [],
   "source": []
  }
 ],
 "metadata": {
  "kernelspec": {
   "display_name": "Python 3",
   "language": "python",
   "name": "python3"
  },
  "language_info": {
   "codemirror_mode": {
    "name": "ipython",
    "version": 3
   },
   "file_extension": ".py",
   "mimetype": "text/x-python",
   "name": "python",
   "nbconvert_exporter": "python",
   "pygments_lexer": "ipython3",
   "version": "3.6.1"
  }
 },
 "nbformat": 4,
 "nbformat_minor": 2
}
